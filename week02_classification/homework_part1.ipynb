{
 "cells": [
  {
   "cell_type": "code",
   "execution_count": 1,
   "metadata": {},
   "outputs": [],
   "source": [
    "import numpy as np\n",
    "import matplotlib.pyplot as plt\n",
    "%matplotlib inline"
   ]
  },
  {
   "cell_type": "markdown",
   "metadata": {},
   "source": [
    "### Homework part I: Prohibited Comment Classification (3 points)\n",
    "\n",
    "![img](https://github.com/yandexdataschool/nlp_course/raw/master/resources/banhammer.jpg)\n",
    "\n",
    "__In this notebook__ you will build an algorithm that classifies social media comments into normal or toxic.\n",
    "Like in many real-world cases, you only have a small (10^3) dataset of hand-labeled examples to work with. We'll tackle this problem using both classical nlp methods and embedding-based approach."
   ]
  },
  {
   "cell_type": "code",
   "execution_count": 2,
   "metadata": {},
   "outputs": [
    {
     "data": {
      "text/html": [
       "<div>\n",
       "<style scoped>\n",
       "    .dataframe tbody tr th:only-of-type {\n",
       "        vertical-align: middle;\n",
       "    }\n",
       "\n",
       "    .dataframe tbody tr th {\n",
       "        vertical-align: top;\n",
       "    }\n",
       "\n",
       "    .dataframe thead th {\n",
       "        text-align: right;\n",
       "    }\n",
       "</style>\n",
       "<table border=\"1\" class=\"dataframe\">\n",
       "  <thead>\n",
       "    <tr style=\"text-align: right;\">\n",
       "      <th></th>\n",
       "      <th>should_ban</th>\n",
       "      <th>comment_text</th>\n",
       "    </tr>\n",
       "  </thead>\n",
       "  <tbody>\n",
       "    <tr>\n",
       "      <th>50</th>\n",
       "      <td>0</td>\n",
       "      <td>\"Those who're in advantageous positions are th...</td>\n",
       "    </tr>\n",
       "    <tr>\n",
       "      <th>250</th>\n",
       "      <td>1</td>\n",
       "      <td>Fartsalot56 says f**k you motherclucker!!</td>\n",
       "    </tr>\n",
       "    <tr>\n",
       "      <th>450</th>\n",
       "      <td>1</td>\n",
       "      <td>Are you a fool? \\n\\nI am sorry, but you seem t...</td>\n",
       "    </tr>\n",
       "    <tr>\n",
       "      <th>650</th>\n",
       "      <td>1</td>\n",
       "      <td>I AM NOT A VANDAL!!!!!!!!!!!!!!!!!!!!!!!!!!!!!!</td>\n",
       "    </tr>\n",
       "    <tr>\n",
       "      <th>850</th>\n",
       "      <td>0</td>\n",
       "      <td>Citing sources\\n\\nCheck out the Wikipedia:Citi...</td>\n",
       "    </tr>\n",
       "  </tbody>\n",
       "</table>\n",
       "</div>"
      ],
      "text/plain": [
       "     should_ban                                       comment_text\n",
       "50            0  \"Those who're in advantageous positions are th...\n",
       "250           1          Fartsalot56 says f**k you motherclucker!!\n",
       "450           1  Are you a fool? \\n\\nI am sorry, but you seem t...\n",
       "650           1    I AM NOT A VANDAL!!!!!!!!!!!!!!!!!!!!!!!!!!!!!!\n",
       "850           0  Citing sources\\n\\nCheck out the Wikipedia:Citi..."
      ]
     },
     "execution_count": 2,
     "metadata": {},
     "output_type": "execute_result"
    }
   ],
   "source": [
    "import pandas as pd\n",
    "data = pd.read_csv(\"comments.tsv\", sep='\\t')\n",
    "\n",
    "texts = data['comment_text'].values\n",
    "target = data['should_ban'].values\n",
    "data[50::200]"
   ]
  },
  {
   "cell_type": "code",
   "execution_count": 3,
   "metadata": {},
   "outputs": [],
   "source": [
    "from sklearn.model_selection import train_test_split\n",
    "texts_train, texts_test, y_train, y_test = train_test_split(texts, target, test_size=0.5, random_state=42)"
   ]
  },
  {
   "cell_type": "markdown",
   "metadata": {},
   "source": [
    "__Note:__ it is generally a good idea to split data into train/test before anything is done to them.\n",
    "\n",
    "It guards you against possible data leakage in the preprocessing stage. For example, should you decide to select words present in obscene tweets as features, you should only count those words over the training set. Otherwise your algoritm can cheat evaluation."
   ]
  },
  {
   "cell_type": "markdown",
   "metadata": {},
   "source": [
    "### Preprocessing and tokenization\n",
    "\n",
    "Comments contain raw text with punctuation, upper/lowercase letters and even newline symbols.\n",
    "\n",
    "To simplify all further steps, we'll split text into space-separated tokens using one of nltk tokenizers."
   ]
  },
  {
   "cell_type": "code",
   "execution_count": 4,
   "metadata": {},
   "outputs": [
    {
     "name": "stdout",
     "output_type": "stream",
     "text": [
      "before: How to be a grown-up at work: replace \"fuck you\" with \"Ok, great!\".\n",
      "after: how to be a grown-up at work : replace \" fuck you \" with \" ok , great ! \" .\n"
     ]
    }
   ],
   "source": [
    "from nltk.tokenize import TweetTokenizer\n",
    "tokenizer = TweetTokenizer()\n",
    "preprocess = lambda text: ' '.join(tokenizer.tokenize(text.lower()))\n",
    "\n",
    "text = 'How to be a grown-up at work: replace \"fuck you\" with \"Ok, great!\".'\n",
    "print(\"before:\", text,)\n",
    "print(\"after:\", preprocess(text),)"
   ]
  },
  {
   "cell_type": "code",
   "execution_count": 5,
   "metadata": {},
   "outputs": [],
   "source": [
    "raw_train = texts_train.copy()\n",
    "raw_test = texts_test.copy()"
   ]
  },
  {
   "cell_type": "code",
   "execution_count": 6,
   "metadata": {},
   "outputs": [],
   "source": [
    "# task: preprocess each comment in train and test\n",
    "\n",
    "texts_train = [preprocess(x) for x in texts_train]\n",
    "texts_test = [preprocess(x) for x in texts_test]"
   ]
  },
  {
   "cell_type": "code",
   "execution_count": 7,
   "metadata": {},
   "outputs": [],
   "source": [
    "assert texts_train[5] ==  'who cares anymore . they attack with impunity .'\n",
    "assert texts_test[89] == 'hey todds ! quick q ? why are you so gay'\n",
    "assert len(texts_test) == len(y_test)"
   ]
  },
  {
   "cell_type": "markdown",
   "metadata": {},
   "source": [
    "### Solving it: bag of words\n",
    "\n",
    "![img](http://www.novuslight.com/uploads/n/BagofWords.jpg)\n",
    "\n",
    "One traditional approach to such problem is to use bag of words features:\n",
    "1. build a vocabulary of frequent words (use train data only)\n",
    "2. for each training sample, count the number of times a word occurs in it (for each word in vocabulary).\n",
    "3. consider this count a feature for some classifier\n",
    "\n",
    "__Note:__ in practice, you can compute such features using sklearn. Please don't do that in the current assignment, though.\n",
    "* `from sklearn.feature_extraction.text import CountVectorizer, TfidfVectorizer`"
   ]
  },
  {
   "cell_type": "code",
   "execution_count": 15,
   "metadata": {},
   "outputs": [],
   "source": [
    "from sklearn.feature_extraction.text import CountVectorizer, TfidfVectorizer\n",
    "k = 10000\n",
    "from collections import Counter"
   ]
  },
  {
   "cell_type": "code",
   "execution_count": 17,
   "metadata": {},
   "outputs": [
    {
     "data": {
      "text/plain": [
       "CountVectorizer(analyzer=<function <lambda> at 0x7f06987eb3a0>,\n",
       "                max_features=10000)"
      ]
     },
     "execution_count": 17,
     "metadata": {},
     "output_type": "execute_result"
    }
   ],
   "source": [
    "cv = CountVectorizer(max_features =k, analyzer = lambda x: x.split())\n",
    "                     #token_pattern = \" \\w+ \")\n",
    "cv.fit(texts_train)"
   ]
  },
  {
   "cell_type": "code",
   "execution_count": 18,
   "metadata": {},
   "outputs": [],
   "source": [
    "# task: find up to k most frequent tokens in texts_train,\n",
    "# sort them by number of occurences (highest first)\n",
    "\n",
    "counter = Counter((y for x in texts_train for y in x.split(\" \")))\n",
    "\n",
    "\n",
    "bow_vocabulary = sorted(cv.vocabulary_.keys(), key = lambda x: cv.vocabulary_[x])"
   ]
  },
  {
   "cell_type": "code",
   "execution_count": 19,
   "metadata": {},
   "outputs": [
    {
     "name": "stdout",
     "output_type": "stream",
     "text": [
      "example features: ['!', '12:20', '300', '_', 'adorned', 'alternative', 'archive', 'average', 'benkner', 'bout', 'came', 'chest', 'combined', 'consumers', 'cricket', 'decisions', 'dickheads', 'domestic', 'eductaion', 'essentially', 'faggot', 'firms', 'frustrated', 'goal', 'hanibal', 'hip-hop', 'identified', 'infoboxes', 'issue', 'kindergarten', 'lets', 'lot', \"mclaren's\", 'moderator', 'naturally', 'noticeable', 'opposing', 'pdf', 'plant', 'pretoria', 'punctuation', 'rebels', 'repetative', 'riadh', 'schulz', 'shes', 'slit', 'spoof', 'stupid', 't', 'theoretical', 'topic', 'uglyness', 'userspace', 'wanted', 'wikieditor', 'year', '←']\n"
     ]
    }
   ],
   "source": [
    "print('example features:', sorted(bow_vocabulary)[::100])"
   ]
  },
  {
   "cell_type": "code",
   "execution_count": 20,
   "metadata": {},
   "outputs": [],
   "source": [
    "import gutil"
   ]
  },
  {
   "cell_type": "code",
   "execution_count": 21,
   "metadata": {},
   "outputs": [],
   "source": [
    "def text_to_bow(text):\n",
    "    \"\"\" convert text string to an array of token counts. Use bow_vocabulary. \"\"\"\n",
    "    res = cv.transform([text]).toarray().reshape(-1).astype(\"float32\")\n",
    "    \n",
    "    return res"
   ]
  },
  {
   "cell_type": "code",
   "execution_count": 22,
   "metadata": {},
   "outputs": [],
   "source": [
    "X_train_bow = np.stack(list(map(text_to_bow, texts_train)))\n",
    "X_test_bow = np.stack(list(map(text_to_bow, texts_test)))"
   ]
  },
  {
   "cell_type": "code",
   "execution_count": 23,
   "metadata": {},
   "outputs": [
    {
     "data": {
      "text/plain": [
       "array([[29]])"
      ]
     },
     "execution_count": 23,
     "metadata": {},
     "output_type": "execute_result"
    }
   ],
   "source": [
    "np.argwhere(text_to_bow(\".\"))"
   ]
  },
  {
   "cell_type": "code",
   "execution_count": 24,
   "metadata": {},
   "outputs": [
    {
     "data": {
      "text/plain": [
       "14.0"
      ]
     },
     "execution_count": 24,
     "metadata": {},
     "output_type": "execute_result"
    }
   ],
   "source": [
    "X_train_bow[6, bow_vocabulary.index('.')]"
   ]
  },
  {
   "cell_type": "code",
   "execution_count": 25,
   "metadata": {},
   "outputs": [
    {
     "data": {
      "text/plain": [
       "14"
      ]
     },
     "execution_count": 25,
     "metadata": {},
     "output_type": "execute_result"
    }
   ],
   "source": [
    "texts_train[6].split().count('.')"
   ]
  },
  {
   "cell_type": "code",
   "execution_count": 26,
   "metadata": {},
   "outputs": [],
   "source": [
    "k_max = len(set(' '.join(texts_train).split()))\n",
    "assert X_train_bow.shape == (len(texts_train), min(k, k_max))\n",
    "assert X_test_bow.shape == (len(texts_test), min(k, k_max))\n",
    "assert np.all(X_train_bow[5:10].sum(-1) == np.array([len(s.split()) for s in  texts_train[5:10]]))\n",
    "assert len(bow_vocabulary) <= min(k, k_max)\n",
    "assert X_train_bow[6, bow_vocabulary.index('.')] == texts_train[6].split().count('.')"
   ]
  },
  {
   "cell_type": "markdown",
   "metadata": {},
   "source": [
    "__Naive bayes:__ perhaps the simplest model that can solve your problem is the so called Naive Bayes Classifier. \n",
    "Its a trivial linear model that assumes the independence of input features and computes the coefficients by, well, counting probabilities.\n",
    "\n",
    "If you don't remember the math behind Naive Bayes, read [this chunk](https://lena-voita.github.io/nlp_course/text_classification.html#naive_bayes) to help refresh your memory. Done? Good! Now let's implement that :)"
   ]
  },
  {
   "cell_type": "code",
   "execution_count": 29,
   "metadata": {},
   "outputs": [
    {
     "data": {
      "text/plain": [
       "array([[  1.,   0.,   0., ...,   0.,   0.,   0.],\n",
       "       [  0.,   6.,   0., ...,   0.,   0.,   0.],\n",
       "       [  0.,   0.,   0., ...,   0.,   0.,   0.],\n",
       "       ...,\n",
       "       [  0.,   0.,   0., ...,   0.,   0.,   0.],\n",
       "       [  0., 108.,   0., ...,   0.,   0.,   0.],\n",
       "       [  1.,   0.,   0., ...,   0.,   0.,   0.]], dtype=float32)"
      ]
     },
     "execution_count": 29,
     "metadata": {},
     "output_type": "execute_result"
    }
   ],
   "source": [
    "X[y==1],sym"
   ]
  },
  {
   "cell_type": "code",
   "execution_count": 70,
   "metadata": {},
   "outputs": [],
   "source": [
    "self = lambda x: x\n",
    "self.delta =1\n",
    "X = X_train_bow\n",
    "y = y_train\n",
    "\n",
    "\n",
    "\n",
    "\n",
    "my_bayes = BinaryNaiveBayes ()\n",
    "my_bayes.fit(X,y)\n",
    "\n",
    "self = my_bayes\n",
    "\n"
   ]
  },
  {
   "cell_type": "code",
   "execution_count": 75,
   "metadata": {},
   "outputs": [],
   "source": [
    "class BinaryNaiveBayes:\n",
    "    '''\n",
    "    P(y=k|x=c) = P(x=c|y=k) * P(y=k)\n",
    "    '''\n",
    "    \n",
    "    delta = 1.0  # add this to all word counts to smoothe probabilities\n",
    "\n",
    "    def fit(self, X, y):\n",
    "        \"\"\"\n",
    "        Fit a NaiveBayes classifier for two classes\n",
    "        :param X: [batch_size, vocab_size] of bag-of-words features\n",
    "        :param y: [batch_size] of binary targets {0, 1}\n",
    "        \"\"\"\n",
    "        # first, compute marginal probabilities of every class, p(y=k) for k = 0,1\n",
    "        p = (y==0).sum()/len(y)\n",
    "        self.p_y = np.array([p, 1-p])        \n",
    "        # count occurences of each word in texts with label 1 and label 0 separately\n",
    "\n",
    "        word_counts_positive = X[y==1].sum(axis=0)\n",
    "        word_counts_negative = X[y==0].sum(axis=0)\n",
    "\n",
    "        # ^-- both must be vectors of shape [vocab_size].\n",
    "        \n",
    "        # finally, lets use those counts to estimate p(x | y = k) for k = 0, 1\n",
    "        \n",
    "\n",
    "        self.p_x_given_positive = (word_counts_positive+self.delta)/(word_counts_positive+self.delta).sum()\n",
    "        self.p_x_given_negative = (word_counts_negative+self.delta)/(word_counts_negative+self.delta).sum()\n",
    "\n",
    "        # both must be of shape [vocab_size]; and don't forget to add self.delta!\n",
    "        \n",
    "        return self\n",
    "    \n",
    "    def predict_scores(self, X):\n",
    "        \"\"\"\n",
    "        :param X: [batch_size, vocab_size] of bag-of-words features\n",
    "        :returns: a matrix of scores [batch_size, k] of scores for k-th class\n",
    "        \"\"\"\n",
    "        # compute scores for positive and negative classes separately.\n",
    "        # these scores should be proportional to log-probabilities of the respective target {0, 1}\n",
    "        # note: if you apply logarithm to p_x_given_*, the total log-probability can be written\n",
    "        # as a dot-product with X\n",
    "        score_positive = (X@np.log(self.p_x_given_positive)) +np.log(self.p_y[1])\n",
    "        score_negative = X@np.log(self.p_x_given_negative) + np.log(self.p_y[0])\n",
    "        \n",
    "        \n",
    "        \n",
    "        \n",
    "        \n",
    "        # you can compute total p(x | y=k) with a dot product\n",
    "        return np.stack([score_negative, score_positive], axis=-1)\n",
    "    \n",
    "    def predict(self, X):\n",
    "        return self.predict_scores(X).argmax(axis=-1)"
   ]
  },
  {
   "cell_type": "code",
   "execution_count": 76,
   "metadata": {},
   "outputs": [],
   "source": [
    "naive_model = BinaryNaiveBayes().fit(X_train_bow, y_train)"
   ]
  },
  {
   "cell_type": "code",
   "execution_count": 77,
   "metadata": {},
   "outputs": [],
   "source": [
    "assert naive_model.p_y.shape == (2,) and naive_model.p_y.sum() == 1 and naive_model.p_y[0] > naive_model.p_y[1]\n",
    "assert naive_model.p_x_given_positive.shape == naive_model.p_x_given_negative.shape == X_train_bow.shape[1:]\n",
    "assert np.allclose(naive_model.p_x_given_positive.sum(), 1.0)\n",
    "assert np.allclose(naive_model.p_x_given_negative.sum(), 1.0)\n",
    "assert naive_model.p_x_given_negative.min() > 0, \"did you forget to add delta?\"\n",
    "\n",
    "f_index = bow_vocabulary.index('fuck')  # offensive tweets should contain more of this\n",
    "assert naive_model.p_x_given_positive[f_index] > naive_model.p_x_given_negative[f_index]\n",
    "\n",
    "g_index = bow_vocabulary.index('good')  # offensive tweets should contain less of this\n",
    "assert naive_model.p_x_given_positive[g_index] < naive_model.p_x_given_negative[g_index]"
   ]
  },
  {
   "cell_type": "code",
   "execution_count": 80,
   "metadata": {},
   "outputs": [
    {
     "data": {
      "text/plain": [
       "0.756"
      ]
     },
     "execution_count": 80,
     "metadata": {},
     "output_type": "execute_result"
    }
   ],
   "source": [
    "from sklearn.naive_bayes import MultinomialNB\n",
    "\n",
    "sk_bayes = MultinomialNB()\n",
    "sk_bayes.fit(X_train_bow, y_train)\n",
    "\n",
    "sk_bayes.score(X_test_bow, y_test)"
   ]
  },
  {
   "cell_type": "code",
   "execution_count": 78,
   "metadata": {},
   "outputs": [
    {
     "name": "stdout",
     "output_type": "stream",
     "text": [
      "Model accuracy: 0.756\n",
      "Well done!\n"
     ]
    },
    {
     "data": {
      "image/png": "[encoded data removed]",
      "text/plain": [
       "<Figure size 432x288 with 1 Axes>"
      ]
     },
     "metadata": {
      "needs_background": "light"
     },
     "output_type": "display_data"
    }
   ],
   "source": [
    "from sklearn.metrics import roc_auc_score, roc_curve\n",
    "\n",
    "for name, X, y, model in [\n",
    "    ('train', X_train_bow, y_train, naive_model),\n",
    "    ('test ', X_test_bow, y_test, naive_model)\n",
    "]:\n",
    "    proba = model.predict_scores(X)[:, 1] - model.predict_scores(X)[:, 0]\n",
    "    auc = roc_auc_score(y, proba)\n",
    "    plt.plot(*roc_curve(y, proba)[:2], label='%s AUC=%.4f' % (name, auc))\n",
    "\n",
    "plt.plot([0, 1], [0, 1], '--', color='black',)\n",
    "plt.legend(fontsize='large')\n",
    "plt.grid()\n",
    "\n",
    "test_accuracy = np.mean(naive_model.predict(X_test_bow) == y_test)\n",
    "print(f\"Model accuracy: {test_accuracy:.3f}\")\n",
    "assert test_accuracy > 0.75, \"Accuracy too low. There's likely a mistake in the code.\"\n",
    "print(\"Well done!\")"
   ]
  },
  {
   "cell_type": "markdown",
   "metadata": {},
   "source": [
    "Okay, it definitely learned *something*. Now let's figure out what exactly it learned. The simplest way to do that is by highlighting which words have a greatest ratio of positive to negative probability or vice versa. We'll go with the positive one [because reasons](https://www.urbandictionary.com/define.php?term=because%20reasons).\n",
    "\n",
    "__Your task__ is to compute top-25 words that have the __highest__ ratio of ${p(x_i | y=1)} \\over {p(x_i | y=0)}$. Enjoy!"
   ]
  },
  {
   "cell_type": "code",
   "execution_count": 89,
   "metadata": {},
   "outputs": [
    {
     "data": {
      "text/plain": [
       "array(['!', '\"', '#', ..., '✍', '❤', '𒁳'], dtype='<U128')"
      ]
     },
     "execution_count": 89,
     "metadata": {},
     "output_type": "execute_result"
    }
   ],
   "source": [
    "voc_array = np.array(bow_vocabulary)\n",
    "voc_array"
   ]
  },
  {
   "cell_type": "code",
   "execution_count": 93,
   "metadata": {},
   "outputs": [
    {
     "data": {
      "text/plain": [
       "array(['suck', 'hitler', 'heil', 'offfuck', 'nigger', 'j.delanoy', 'dick',\n",
       "       'fggt', '=', '!', 'bitch', 'fuck', 'shit', 'slap', 'fucking',\n",
       "       'ass', 'you', 'u', 'stupid', '*'], dtype='<U128')"
      ]
     },
     "execution_count": 93,
     "metadata": {},
     "output_type": "execute_result"
    }
   ],
   "source": [
    "voc_array[np.argsort(sk_bayes.feature_log_prob_[1,:]/sk_bayes.feature_log_prob_[0,:])][:20]"
   ]
  },
  {
   "cell_type": "code",
   "execution_count": 101,
   "metadata": {},
   "outputs": [
    {
     "name": "stdout",
     "output_type": "stream",
     "text": [
      "#0\t    hitler\t(ratio=475.47344970703125)\n",
      "#1\t      heil\t(ratio=471.8065185546875)\n",
      "#2\t   offfuck\t(ratio=441.2491149902344)\n",
      "#3\t      suck\t(ratio=314.7414245605469)\n",
      "#4\t    nigger\t(ratio=223.6802978515625)\n",
      "#5\t j.delanoy\t(ratio=220.01341247558594)\n",
      "#6\t      dick\t(ratio=187.0113983154297)\n",
      "#7\t      fggt\t(ratio=97.78373718261719)\n",
      "#8\t     bitch\t(ratio=59.89254379272461)\n",
      "#9\t      fuck\t(ratio=53.78105545043945)\n",
      "#10\t      slap\t(ratio=44.002681732177734)\n",
      "#11\t      shit\t(ratio=44.002681732177734)\n",
      "#12\t   fucking\t(ratio=31.779714584350586)\n",
      "#13\t       ass\t(ratio=26.890527725219727)\n",
      "#14\t    stupid\t(ratio=18.33445167541504)\n",
      "#15\t         =\t(ratio=17.53995704650879)\n",
      "#16\t         *\t(ratio=17.11215591430664)\n",
      "#17\t   college\t(ratio=17.11215591430664)\n",
      "#18\t   asshole\t(ratio=15.889857292175293)\n",
      "#19\t         u\t(ratio=15.278709411621094)\n",
      "#20\t       hit\t(ratio=14.667561531066895)\n",
      "#21\t   bastard\t(ratio=14.667561531066895)\n",
      "#22\t         @\t(ratio=13.445263862609863)\n",
      "#23\t     idiot\t(ratio=13.445263862609863)\n",
      "#24\tscientific\t(ratio=12.222967147827148)\n"
     ]
    }
   ],
   "source": [
    "# hint: use naive_model.p_*\n",
    "probability_ratio = naive_model.p_x_given_positive/naive_model.p_x_given_negative\n",
    "top_negative_words = voc_array[np.argsort(probability_ratio)][-25:][::-1]\n",
    "\n",
    "assert len(top_negative_words) == 25 and [isinstance(w, str) for w in top_negative_words]\n",
    "assert 'j.delanoy' in top_negative_words and 'college' in top_negative_words\n",
    "\n",
    "for i, word in enumerate(top_negative_words):\n",
    "    print(f\"#{i}\\t{word.rjust(10, ' ')}\\t(ratio={probability_ratio[bow_vocabulary.index(word)]})\")"
   ]
  },
  {
   "cell_type": "markdown",
   "metadata": {},
   "source": [
    "Now lets try something less prehistoric: __Logistic Regression__. Turns out, if you're using silicon instead of an abacus, you can find model weights by optimizing the log-probability of the answer. Though, of course, you don't even need to write it by hand anymore. Let's sklearn it!"
   ]
  },
  {
   "cell_type": "code",
   "execution_count": 109,
   "metadata": {},
   "outputs": [],
   "source": [
    "from sklearn.linear_model import LogisticRegression\n",
    "bow_model = LogisticRegression(C=0.2).fit(X_train_bow, y_train)"
   ]
  },
  {
   "cell_type": "code",
   "execution_count": 110,
   "metadata": {},
   "outputs": [
    {
     "name": "stdout",
     "output_type": "stream",
     "text": [
      "Model accuracy: 0.772\n",
      "Well done!\n"
     ]
    },
    {
     "data": {
      "image/png": "[encoded data removed]",
      "text/plain": [
       "<Figure size 432x288 with 1 Axes>"
      ]
     },
     "metadata": {
      "needs_background": "light"
     },
     "output_type": "display_data"
    }
   ],
   "source": [
    "from sklearn.metrics import roc_auc_score, roc_curve\n",
    "\n",
    "for name, X, y, model in [\n",
    "    ('train', X_train_bow, y_train, bow_model),\n",
    "    ('test ', X_test_bow, y_test, bow_model)\n",
    "]:\n",
    "    proba = model.predict_proba(X)[:, 1]\n",
    "    auc = roc_auc_score(y, proba)\n",
    "    plt.plot(*roc_curve(y, proba)[:2], label='%s AUC=%.4f' % (name, auc))\n",
    "\n",
    "plt.plot([0, 1], [0, 1], '--', color='black',)\n",
    "plt.legend(fontsize='large')\n",
    "plt.grid()\n",
    "\n",
    "test_accuracy = np.mean(bow_model.predict(X_test_bow) == y_test)\n",
    "print(f\"Model accuracy: {test_accuracy:.3f}\")\n",
    "assert test_accuracy > 0.77, \"Hint: tune the parameter C to improve performance\"\n",
    "print(\"Well done!\")"
   ]
  },
  {
   "cell_type": "markdown",
   "metadata": {},
   "source": [
    "### Task: implement TF-IDF features\n",
    "\n",
    "Not all words are equally useful. One can prioritize rare words and downscale words like \"and\"/\"or\" by using __tf-idf features__. This abbreviation stands for __text frequency/inverse document frequence__ and means exactly that:\n",
    "\n",
    "$$ feature_i = { Count(word_i \\in x) \\times { log {N \\over Count(word_i \\in D) + \\alpha} }} $$\n",
    "\n",
    "\n",
    ", where x is a single text, D is your dataset (a collection of texts), N is a total number of documents and $\\alpha$ is a smoothing hyperparameter (typically 1). \n",
    "And $Count(word_i \\in D)$ is the number of documents where $word_i$ appears.\n",
    "\n",
    "It may also be a good idea to normalize each data sample after computing tf-idf features.\n",
    "\n",
    "__Your task:__ implement tf-idf features, train a model and evaluate ROC curve. Compare it with basic BagOfWords model from above.\n",
    "\n",
    "Please don't use sklearn/nltk builtin tf-idf vectorizers in your solution :) You can still use 'em for debugging though."
   ]
  },
  {
   "cell_type": "code",
   "execution_count": 149,
   "metadata": {},
   "outputs": [
    {
     "data": {
      "text/plain": [
       "array([ 99, 126,   1, ...,   1,   1,   1])"
      ]
     },
     "execution_count": 149,
     "metadata": {},
     "output_type": "execute_result"
    }
   ],
   "source": []
  },
  {
   "cell_type": "code",
   "execution_count": 152,
   "metadata": {},
   "outputs": [],
   "source": [
    "idf = np.log(X_train_bow.shape[0]/((X_train_bow>0).sum(axis=0)+1))"
   ]
  },
  {
   "cell_type": "code",
   "execution_count": 161,
   "metadata": {},
   "outputs": [],
   "source": [
    "class MyIdf:\n",
    "    '''\n",
    "    accepts bow matrix\n",
    "    '''\n",
    "    def fit(self, X,y):\n",
    "        self.idf =  np.log(X.shape[0]/((X>0).sum(axis=0)+1))\n",
    "        return self\n",
    "    def transform(self,X):\n",
    "        return X*self.idf\n",
    "        \n",
    "        "
   ]
  },
  {
   "cell_type": "code",
   "execution_count": 116,
   "metadata": {},
   "outputs": [
    {
     "data": {
      "text/plain": [
       "TfidfVectorizer(analyzer=<function <lambda> at 0x7f06940b3310>)"
      ]
     },
     "execution_count": 116,
     "metadata": {},
     "output_type": "execute_result"
    }
   ],
   "source": [
    "tf = TfidfVectorizer(analyzer = lambda x: x.split())\n",
    "tf.fit(texts_train, )"
   ]
  },
  {
   "cell_type": "code",
   "execution_count": 119,
   "metadata": {},
   "outputs": [],
   "source": [
    "from sklearn.pipeline import Pipeline\n"
   ]
  },
  {
   "cell_type": "code",
   "execution_count": 139,
   "metadata": {},
   "outputs": [
    {
     "data": {
      "text/plain": [
       "0.9999999999999999"
      ]
     },
     "execution_count": 139,
     "metadata": {},
     "output_type": "execute_result"
    }
   ],
   "source": [
    "np.linalg.norm(pipe['transform'].transform(texts_train).toarray()[0, :])"
   ]
  },
  {
   "cell_type": "code",
   "execution_count": 162,
   "metadata": {},
   "outputs": [],
   "source": [
    "my_pipe = Pipeline([('tf-idf', MyIdf()), (\"logistic\", LogisticRegression(C=0.2))])"
   ]
  },
  {
   "cell_type": "code",
   "execution_count": 164,
   "metadata": {},
   "outputs": [
    {
     "data": {
      "text/plain": [
       "Pipeline(steps=[('tf-idf', <__main__.MyIdf object at 0x7f0691a682e0>),\n",
       "                ('logistic', LogisticRegression(C=0.2))])"
      ]
     },
     "execution_count": 164,
     "metadata": {},
     "output_type": "execute_result"
    }
   ],
   "source": [
    "my_pipe.fit(X_train_bow, y_train)"
   ]
  },
  {
   "cell_type": "code",
   "execution_count": null,
   "metadata": {},
   "outputs": [],
   "source": [
    "my_pipe.dd"
   ]
  },
  {
   "cell_type": "code",
   "execution_count": 167,
   "metadata": {},
   "outputs": [
    {
     "data": {
      "text/plain": [
       "array([1.60943791, 1.37042101, 5.52146092, ..., 5.52146092, 5.52146092,\n",
       "       5.52146092])"
      ]
     },
     "execution_count": 167,
     "metadata": {},
     "output_type": "execute_result"
    }
   ],
   "source": [
    "my_pipe['tf-idf'].idf"
   ]
  },
  {
   "cell_type": "code",
   "execution_count": 122,
   "metadata": {},
   "outputs": [],
   "source": [
    "pipe = Pipeline([(\"transform\", TfidfVectorizer(analyzer = lambda x: x.split())), \n",
    "          (\"logistic\", LogisticRegression(C=0.2))])"
   ]
  },
  {
   "cell_type": "code",
   "execution_count": 124,
   "metadata": {},
   "outputs": [
    {
     "data": {
      "text/plain": [
       "Pipeline(steps=[('transform',\n",
       "                 TfidfVectorizer(analyzer=<function <lambda> at 0x7f0694018670>)),\n",
       "                ('logistic', LogisticRegression(C=0.2))])"
      ]
     },
     "execution_count": 124,
     "metadata": {},
     "output_type": "execute_result"
    }
   ],
   "source": [
    "pipe.fit(texts_train, y_train)"
   ]
  },
  {
   "cell_type": "code",
   "execution_count": 169,
   "metadata": {},
   "outputs": [
    {
     "name": "stdout",
     "output_type": "stream",
     "text": [
      "0.872 1.0\n"
     ]
    }
   ],
   "source": [
    "print(pipe.score(texts_train, y_train), my_pipe.score(X_train_bow, y_train))"
   ]
  },
  {
   "cell_type": "code",
   "execution_count": 170,
   "metadata": {},
   "outputs": [
    {
     "name": "stdout",
     "output_type": "stream",
     "text": [
      "0.746 0.796\n"
     ]
    }
   ],
   "source": [
    "print(pipe.score(texts_test, y_test), my_pipe.score(X_test_bow, y_test))"
   ]
  },
  {
   "cell_type": "code",
   "execution_count": 178,
   "metadata": {},
   "outputs": [
    {
     "data": {
      "text/plain": [
       "array([[1.13866860e-01, 8.86133140e-01],\n",
       "       [6.71137920e-01, 3.28862080e-01],\n",
       "       [1.99763289e-01, 8.00236711e-01],\n",
       "       [9.98111262e-01, 1.88873847e-03],\n",
       "       [8.12845528e-02, 9.18715447e-01],\n",
       "       [2.77075521e-01, 7.22924479e-01],\n",
       "       [1.19155678e-01, 8.80844322e-01],\n",
       "       [9.94257272e-01, 5.74272839e-03],\n",
       "       [9.99975454e-01, 2.45458147e-05],\n",
       "       [4.83641625e-01, 5.16358375e-01],\n",
       "       [4.88691360e-01, 5.11308640e-01],\n",
       "       [1.66576260e-01, 8.33423740e-01],\n",
       "       [5.91766360e-02, 9.40823364e-01],\n",
       "       [4.15727606e-01, 5.84272394e-01],\n",
       "       [2.43686431e-01, 7.56313569e-01],\n",
       "       [5.30477592e-02, 9.46952241e-01],\n",
       "       [9.98356648e-01, 1.64335211e-03],\n",
       "       [7.62363661e-01, 2.37636339e-01],\n",
       "       [7.37251931e-01, 2.62748069e-01],\n",
       "       [8.69068067e-01, 1.30931933e-01],\n",
       "       [7.42146989e-01, 2.57853011e-01],\n",
       "       [2.32015772e-01, 7.67984228e-01],\n",
       "       [4.10074219e-01, 5.89925781e-01],\n",
       "       [1.44989338e-01, 8.55010662e-01],\n",
       "       [1.70277787e-01, 8.29722213e-01],\n",
       "       [1.46620944e-01, 8.53379056e-01],\n",
       "       [9.27922666e-01, 7.20773341e-02],\n",
       "       [1.78704278e-01, 8.21295722e-01],\n",
       "       [3.18805657e-02, 9.68119434e-01],\n",
       "       [1.29494545e-01, 8.70505455e-01],\n",
       "       [6.30841739e-01, 3.69158261e-01],\n",
       "       [6.98259032e-01, 3.01740968e-01],\n",
       "       [1.97644483e-01, 8.02355517e-01],\n",
       "       [9.58315384e-01, 4.16846161e-02],\n",
       "       [3.47393773e-01, 6.52606227e-01],\n",
       "       [6.82554141e-01, 3.17445859e-01],\n",
       "       [3.71963924e-01, 6.28036076e-01],\n",
       "       [1.84522461e-01, 8.15477539e-01],\n",
       "       [4.44034796e-03, 9.95559652e-01],\n",
       "       [6.34027875e-01, 3.65972125e-01],\n",
       "       [9.99999900e-01, 9.96821035e-08],\n",
       "       [8.26200922e-01, 1.73799078e-01],\n",
       "       [1.20689758e-02, 9.87931024e-01],\n",
       "       [9.58307466e-01, 4.16925343e-02],\n",
       "       [1.98619143e-02, 9.80138086e-01],\n",
       "       [9.99990484e-01, 9.51561390e-06],\n",
       "       [5.14014709e-01, 4.85985291e-01],\n",
       "       [1.75186785e-01, 8.24813215e-01],\n",
       "       [9.78620242e-01, 2.13797582e-02],\n",
       "       [5.56506207e-01, 4.43493793e-01],\n",
       "       [5.64349016e-02, 9.43565098e-01],\n",
       "       [5.19110514e-01, 4.80889486e-01],\n",
       "       [2.26422970e-01, 7.73577030e-01],\n",
       "       [7.95471319e-01, 2.04528681e-01],\n",
       "       [5.96096965e-02, 9.40390303e-01],\n",
       "       [7.17810791e-02, 9.28218921e-01],\n",
       "       [8.44523666e-02, 9.15547633e-01],\n",
       "       [9.83812946e-01, 1.61870543e-02],\n",
       "       [7.53439838e-01, 2.46560162e-01],\n",
       "       [7.06969261e-01, 2.93030739e-01],\n",
       "       [9.99999987e-01, 1.26082083e-08],\n",
       "       [3.30439470e-01, 6.69560530e-01],\n",
       "       [1.55103325e-01, 8.44896675e-01],\n",
       "       [4.90194928e-01, 5.09805072e-01],\n",
       "       [5.34592884e-02, 9.46540712e-01],\n",
       "       [7.66182890e-01, 2.33817110e-01],\n",
       "       [9.08986891e-01, 9.10131090e-02],\n",
       "       [9.99396017e-01, 6.03983089e-04],\n",
       "       [6.85465006e-01, 3.14534994e-01],\n",
       "       [9.65697168e-01, 3.43028317e-02],\n",
       "       [7.29872919e-01, 2.70127081e-01],\n",
       "       [5.28383327e-03, 9.94716167e-01],\n",
       "       [7.50979202e-01, 2.49020798e-01],\n",
       "       [1.24653161e-01, 8.75346839e-01],\n",
       "       [4.10053394e-01, 5.89946606e-01],\n",
       "       [5.08730421e-01, 4.91269579e-01],\n",
       "       [9.78153913e-01, 2.18460873e-02],\n",
       "       [2.26116015e-02, 9.77388399e-01],\n",
       "       [9.29505541e-01, 7.04944592e-02],\n",
       "       [4.43740870e-01, 5.56259130e-01],\n",
       "       [4.04702892e-01, 5.95297108e-01],\n",
       "       [1.02509384e-03, 9.98974906e-01],\n",
       "       [1.34615674e-04, 9.99865384e-01],\n",
       "       [3.52438879e-01, 6.47561121e-01],\n",
       "       [7.87993401e-01, 2.12006599e-01],\n",
       "       [7.85040490e-01, 2.14959510e-01],\n",
       "       [7.50852205e-01, 2.49147795e-01],\n",
       "       [3.05926847e-01, 6.94073153e-01],\n",
       "       [1.29757870e-01, 8.70242130e-01],\n",
       "       [1.15545337e-01, 8.84454663e-01],\n",
       "       [6.54511058e-01, 3.45488942e-01],\n",
       "       [4.36075252e-01, 5.63924748e-01],\n",
       "       [1.25600371e-01, 8.74399629e-01],\n",
       "       [5.93878046e-02, 9.40612195e-01],\n",
       "       [8.88983477e-01, 1.11016523e-01],\n",
       "       [9.76122183e-01, 2.38778171e-02],\n",
       "       [4.62215012e-01, 5.37784988e-01],\n",
       "       [9.99999201e-01, 7.99269919e-07],\n",
       "       [9.58764928e-01, 4.12350718e-02],\n",
       "       [9.85962609e-01, 1.40373912e-02],\n",
       "       [3.86008054e-01, 6.13991946e-01],\n",
       "       [2.09960648e-01, 7.90039352e-01],\n",
       "       [2.53793262e-01, 7.46206738e-01],\n",
       "       [5.30912239e-01, 4.69087761e-01],\n",
       "       [9.78010873e-01, 2.19891274e-02],\n",
       "       [9.10398552e-01, 8.96014485e-02],\n",
       "       [3.70782867e-01, 6.29217133e-01],\n",
       "       [4.29546151e-01, 5.70453849e-01],\n",
       "       [2.34943557e-01, 7.65056443e-01],\n",
       "       [5.84882321e-01, 4.15117679e-01],\n",
       "       [1.15598909e-01, 8.84401091e-01],\n",
       "       [9.00800765e-01, 9.91992347e-02],\n",
       "       [3.63826380e-01, 6.36173620e-01],\n",
       "       [8.64324172e-02, 9.13567583e-01],\n",
       "       [9.98029698e-02, 9.00197030e-01],\n",
       "       [3.96752757e-01, 6.03247243e-01],\n",
       "       [1.24269661e-01, 8.75730339e-01],\n",
       "       [1.03279662e-01, 8.96720338e-01],\n",
       "       [9.09816739e-01, 9.01832611e-02],\n",
       "       [9.99994589e-01, 5.41145629e-06],\n",
       "       [5.26164480e-01, 4.73835520e-01],\n",
       "       [2.08009122e-01, 7.91990878e-01],\n",
       "       [3.11863983e-01, 6.88136017e-01],\n",
       "       [6.90789410e-04, 9.99309211e-01],\n",
       "       [2.03596201e-01, 7.96403799e-01],\n",
       "       [5.99582323e-02, 9.40041768e-01],\n",
       "       [9.90584431e-01, 9.41556943e-03],\n",
       "       [9.36088885e-01, 6.39111149e-02],\n",
       "       [1.38386031e-01, 8.61613969e-01],\n",
       "       [9.93075886e-01, 6.92411360e-03],\n",
       "       [8.41501926e-02, 9.15849807e-01],\n",
       "       [9.60688660e-01, 3.93113404e-02],\n",
       "       [6.66790001e-01, 3.33209999e-01],\n",
       "       [1.60675560e-01, 8.39324440e-01],\n",
       "       [9.16682726e-01, 8.33172738e-02],\n",
       "       [7.31715206e-01, 2.68284794e-01],\n",
       "       [5.35221771e-01, 4.64778229e-01],\n",
       "       [9.82941217e-01, 1.70587833e-02],\n",
       "       [2.50091691e-01, 7.49908309e-01],\n",
       "       [2.86117835e-01, 7.13882165e-01],\n",
       "       [3.62961503e-01, 6.37038497e-01],\n",
       "       [9.32415639e-03, 9.90675844e-01],\n",
       "       [1.40992826e-01, 8.59007174e-01],\n",
       "       [4.45546737e-01, 5.54453263e-01],\n",
       "       [9.79454590e-01, 2.05454103e-02],\n",
       "       [6.98972727e-01, 3.01027273e-01],\n",
       "       [2.62128390e-02, 9.73787161e-01],\n",
       "       [1.78497035e-01, 8.21502965e-01],\n",
       "       [1.84274933e-01, 8.15725067e-01],\n",
       "       [9.23070989e-01, 7.69290110e-02],\n",
       "       [4.28862535e-01, 5.71137465e-01],\n",
       "       [9.87635601e-01, 1.23643995e-02],\n",
       "       [9.93398504e-01, 6.60149589e-03],\n",
       "       [4.26894124e-02, 9.57310588e-01],\n",
       "       [5.66602277e-02, 9.43339772e-01],\n",
       "       [3.85483337e-01, 6.14516663e-01],\n",
       "       [4.49246154e-03, 9.95507538e-01],\n",
       "       [2.70974070e-01, 7.29025930e-01],\n",
       "       [6.13277933e-01, 3.86722067e-01],\n",
       "       [2.65072661e-01, 7.34927339e-01],\n",
       "       [1.98264454e-01, 8.01735546e-01],\n",
       "       [9.74051121e-01, 2.59488789e-02],\n",
       "       [9.71681990e-01, 2.83180103e-02],\n",
       "       [1.70561758e-01, 8.29438242e-01],\n",
       "       [1.22936664e-03, 9.98770633e-01],\n",
       "       [9.77451270e-01, 2.25487305e-02],\n",
       "       [2.92890440e-01, 7.07109560e-01],\n",
       "       [7.25674325e-01, 2.74325675e-01],\n",
       "       [9.70225763e-02, 9.02977424e-01],\n",
       "       [5.09183734e-01, 4.90816266e-01],\n",
       "       [8.14964815e-01, 1.85035185e-01],\n",
       "       [6.11854913e-01, 3.88145087e-01],\n",
       "       [8.35155260e-01, 1.64844740e-01],\n",
       "       [9.97920173e-01, 2.07982736e-03],\n",
       "       [5.30499122e-02, 9.46950088e-01],\n",
       "       [4.90026415e-02, 9.50997358e-01],\n",
       "       [6.68971021e-01, 3.31028979e-01],\n",
       "       [1.99498697e-01, 8.00501303e-01],\n",
       "       [9.44692644e-01, 5.53073558e-02],\n",
       "       [2.71713126e-01, 7.28286874e-01],\n",
       "       [8.87265714e-01, 1.12734286e-01],\n",
       "       [8.58768869e-02, 9.14123113e-01],\n",
       "       [3.17335564e-02, 9.68266444e-01],\n",
       "       [1.89765142e-01, 8.10234858e-01],\n",
       "       [1.08768742e-01, 8.91231258e-01],\n",
       "       [9.33001940e-01, 6.69980602e-02],\n",
       "       [9.99995762e-01, 4.23783515e-06],\n",
       "       [4.61344333e-01, 5.38655667e-01],\n",
       "       [9.61418509e-01, 3.85814907e-02],\n",
       "       [8.43181835e-01, 1.56818165e-01],\n",
       "       [3.92519298e-02, 9.60748070e-01],\n",
       "       [6.53334345e-02, 9.34666565e-01],\n",
       "       [8.47108232e-01, 1.52891768e-01],\n",
       "       [3.06576565e-01, 6.93423435e-01],\n",
       "       [5.92129569e-01, 4.07870431e-01],\n",
       "       [3.34649491e-01, 6.65350509e-01],\n",
       "       [4.07390700e-01, 5.92609300e-01],\n",
       "       [5.78552915e-02, 9.42144709e-01],\n",
       "       [2.68647920e-02, 9.73135208e-01],\n",
       "       [5.51010192e-01, 4.48989808e-01],\n",
       "       [6.50495490e-01, 3.49504510e-01],\n",
       "       [5.50556607e-02, 9.44944339e-01],\n",
       "       [9.03735405e-01, 9.62645947e-02],\n",
       "       [4.29325814e-01, 5.70674186e-01],\n",
       "       [9.94500818e-01, 5.49918192e-03],\n",
       "       [6.77075168e-01, 3.22924832e-01],\n",
       "       [7.16201257e-01, 2.83798743e-01],\n",
       "       [4.83911888e-01, 5.16088112e-01],\n",
       "       [4.55917859e-01, 5.44082141e-01],\n",
       "       [9.34100575e-01, 6.58994252e-02],\n",
       "       [2.96992437e-01, 7.03007563e-01],\n",
       "       [3.57821418e-01, 6.42178582e-01],\n",
       "       [6.15699405e-01, 3.84300595e-01],\n",
       "       [4.96499361e-01, 5.03500639e-01],\n",
       "       [9.47425013e-01, 5.25749866e-02],\n",
       "       [9.33715411e-01, 6.62845886e-02],\n",
       "       [4.84697547e-01, 5.15302453e-01],\n",
       "       [1.10793420e-02, 9.88920658e-01],\n",
       "       [5.08048586e-01, 4.91951414e-01],\n",
       "       [0.00000000e+00, 1.00000000e+00],\n",
       "       [2.23782481e-02, 9.77621752e-01],\n",
       "       [2.72333289e-01, 7.27666711e-01],\n",
       "       [5.25910672e-02, 9.47408933e-01],\n",
       "       [9.07874271e-01, 9.21257290e-02],\n",
       "       [3.83771788e-01, 6.16228212e-01],\n",
       "       [2.33429617e-02, 9.76657038e-01],\n",
       "       [9.99045908e-01, 9.54092497e-04],\n",
       "       [8.08523449e-01, 1.91476551e-01],\n",
       "       [1.56316534e-02, 9.84368347e-01],\n",
       "       [2.66188404e-01, 7.33811596e-01],\n",
       "       [5.07619645e-01, 4.92380355e-01],\n",
       "       [1.12392334e-01, 8.87607666e-01],\n",
       "       [4.39082566e-01, 5.60917434e-01],\n",
       "       [8.97713244e-01, 1.02286756e-01],\n",
       "       [8.56265911e-01, 1.43734089e-01],\n",
       "       [3.91862599e-01, 6.08137401e-01],\n",
       "       [4.14869664e-01, 5.85130336e-01],\n",
       "       [9.49640130e-01, 5.03598699e-02],\n",
       "       [9.81357367e-02, 9.01864263e-01],\n",
       "       [8.95760346e-01, 1.04239654e-01],\n",
       "       [3.04258339e-01, 6.95741661e-01],\n",
       "       [8.31336674e-01, 1.68663326e-01],\n",
       "       [8.75876198e-02, 9.12412380e-01],\n",
       "       [8.82128976e-01, 1.17871024e-01],\n",
       "       [8.92794008e-02, 9.10720599e-01],\n",
       "       [5.96958405e-01, 4.03041595e-01],\n",
       "       [3.32519855e-02, 9.66748014e-01],\n",
       "       [1.51449737e-01, 8.48550263e-01],\n",
       "       [3.08890357e-01, 6.91109643e-01],\n",
       "       [6.02759857e-02, 9.39724014e-01],\n",
       "       [3.28366781e-01, 6.71633219e-01],\n",
       "       [8.31559315e-01, 1.68440685e-01],\n",
       "       [6.12174735e-01, 3.87825265e-01],\n",
       "       [5.71180891e-01, 4.28819109e-01],\n",
       "       [7.17111508e-01, 2.82888492e-01],\n",
       "       [9.58481687e-01, 4.15183129e-02],\n",
       "       [7.90012426e-02, 9.20998757e-01],\n",
       "       [3.53095443e-01, 6.46904557e-01],\n",
       "       [4.10550310e-01, 5.89449690e-01],\n",
       "       [9.92898082e-01, 7.10191797e-03],\n",
       "       [8.92944175e-01, 1.07055825e-01],\n",
       "       [5.51566479e-01, 4.48433521e-01],\n",
       "       [2.36211912e-01, 7.63788088e-01],\n",
       "       [4.37363126e-01, 5.62636874e-01],\n",
       "       [6.33406801e-01, 3.66593199e-01],\n",
       "       [1.81414804e-02, 9.81858520e-01],\n",
       "       [6.53423753e-01, 3.46576247e-01],\n",
       "       [4.84697547e-01, 5.15302453e-01],\n",
       "       [2.26360164e-01, 7.73639836e-01],\n",
       "       [2.24326483e-01, 7.75673517e-01],\n",
       "       [2.82247368e-01, 7.17752632e-01],\n",
       "       [8.94488290e-01, 1.05511710e-01],\n",
       "       [9.85650975e-01, 1.43490249e-02],\n",
       "       [4.15840558e-02, 9.58415944e-01],\n",
       "       [7.26473183e-01, 2.73526817e-01],\n",
       "       [9.76650225e-01, 2.33497746e-02],\n",
       "       [1.87273425e-01, 8.12726575e-01],\n",
       "       [2.30815556e-01, 7.69184444e-01],\n",
       "       [8.51025002e-01, 1.48974998e-01],\n",
       "       [6.72063444e-01, 3.27936556e-01],\n",
       "       [2.26814822e-01, 7.73185178e-01],\n",
       "       [9.60935699e-01, 3.90643012e-02],\n",
       "       [4.87804669e-01, 5.12195331e-01],\n",
       "       [1.71736556e-01, 8.28263444e-01],\n",
       "       [9.90176290e-01, 9.82370984e-03],\n",
       "       [4.97114162e-02, 9.50288584e-01],\n",
       "       [8.07318205e-01, 1.92681795e-01],\n",
       "       [5.94841835e-02, 9.40515816e-01],\n",
       "       [8.59427195e-03, 9.91405728e-01],\n",
       "       [9.07338605e-01, 9.26613947e-02],\n",
       "       [9.95252235e-01, 4.74776479e-03],\n",
       "       [5.55005191e-01, 4.44994809e-01],\n",
       "       [5.45894592e-01, 4.54105408e-01],\n",
       "       [3.71179884e-01, 6.28820116e-01],\n",
       "       [2.48944297e-02, 9.75105570e-01],\n",
       "       [7.65793686e-01, 2.34206314e-01],\n",
       "       [2.45763387e-01, 7.54236613e-01],\n",
       "       [8.37979876e-01, 1.62020124e-01],\n",
       "       [1.32227030e-01, 8.67772970e-01],\n",
       "       [9.32690589e-01, 6.73094113e-02],\n",
       "       [7.81706459e-01, 2.18293541e-01],\n",
       "       [1.46033348e-01, 8.53966652e-01],\n",
       "       [5.49831214e-01, 4.50168786e-01],\n",
       "       [4.75088662e-01, 5.24911338e-01],\n",
       "       [6.29553713e-01, 3.70446287e-01],\n",
       "       [6.51556085e-01, 3.48443915e-01],\n",
       "       [3.90583286e-01, 6.09416714e-01],\n",
       "       [1.00000000e+00, 4.22304386e-37],\n",
       "       [9.99665864e-01, 3.34135947e-04],\n",
       "       [6.93108163e-01, 3.06891837e-01],\n",
       "       [9.82335529e-01, 1.76644711e-02],\n",
       "       [7.41097344e-02, 9.25890266e-01],\n",
       "       [2.69373815e-01, 7.30626185e-01],\n",
       "       [1.75481739e-01, 8.24518261e-01],\n",
       "       [2.36540288e-01, 7.63459712e-01],\n",
       "       [3.65968165e-01, 6.34031835e-01],\n",
       "       [7.89507134e-01, 2.10492866e-01],\n",
       "       [4.69433585e-02, 9.53056642e-01],\n",
       "       [7.56527565e-01, 2.43472435e-01],\n",
       "       [9.99937516e-01, 6.24844614e-05],\n",
       "       [9.52604461e-01, 4.73955389e-02],\n",
       "       [8.31487679e-01, 1.68512321e-01],\n",
       "       [6.49543448e-01, 3.50456552e-01],\n",
       "       [4.01345061e-01, 5.98654939e-01],\n",
       "       [3.83373486e-01, 6.16626514e-01],\n",
       "       [8.97119339e-01, 1.02880661e-01],\n",
       "       [2.41021099e-01, 7.58978901e-01],\n",
       "       [8.39421185e-01, 1.60578815e-01],\n",
       "       [3.68633655e-01, 6.31366345e-01],\n",
       "       [5.54116956e-01, 4.45883044e-01],\n",
       "       [7.99305564e-01, 2.00694436e-01],\n",
       "       [9.11177423e-01, 8.88225767e-02],\n",
       "       [1.01390317e-03, 9.98986097e-01],\n",
       "       [7.30881083e-01, 2.69118917e-01],\n",
       "       [9.92142537e-01, 7.85746326e-03],\n",
       "       [4.99849705e-05, 9.99950015e-01],\n",
       "       [5.81685904e-01, 4.18314096e-01],\n",
       "       [3.87266604e-01, 6.12733396e-01],\n",
       "       [1.79403617e-01, 8.20596383e-01],\n",
       "       [1.29096084e-01, 8.70903916e-01],\n",
       "       [4.23861444e-01, 5.76138556e-01],\n",
       "       [6.07319889e-01, 3.92680111e-01],\n",
       "       [7.55802478e-01, 2.44197522e-01],\n",
       "       [7.44105601e-01, 2.55894399e-01],\n",
       "       [5.43488150e-01, 4.56511850e-01],\n",
       "       [7.60977158e-01, 2.39022842e-01],\n",
       "       [5.82293349e-02, 9.41770665e-01],\n",
       "       [8.22059237e-01, 1.77940763e-01],\n",
       "       [9.47425627e-01, 5.25743733e-02],\n",
       "       [8.91591298e-01, 1.08408702e-01],\n",
       "       [2.65828790e-01, 7.34171210e-01],\n",
       "       [9.99933876e-01, 6.61239029e-05],\n",
       "       [1.57291732e-01, 8.42708268e-01],\n",
       "       [8.49802367e-01, 1.50197633e-01],\n",
       "       [9.62748719e-01, 3.72512815e-02],\n",
       "       [9.28043824e-01, 7.19561764e-02],\n",
       "       [7.44501342e-03, 9.92554987e-01],\n",
       "       [1.20624656e-03, 9.98793753e-01],\n",
       "       [3.94513488e-01, 6.05486512e-01],\n",
       "       [5.12622884e-01, 4.87377116e-01],\n",
       "       [1.00000000e+00, 2.92594296e-17],\n",
       "       [4.23739529e-01, 5.76260471e-01],\n",
       "       [1.92834079e-01, 8.07165921e-01],\n",
       "       [4.48489296e-01, 5.51510704e-01],\n",
       "       [7.92356949e-01, 2.07643051e-01],\n",
       "       [1.70897330e-01, 8.29102670e-01],\n",
       "       [2.90459683e-03, 9.97095403e-01],\n",
       "       [9.52467359e-01, 4.75326408e-02],\n",
       "       [3.15144737e-01, 6.84855263e-01],\n",
       "       [4.21597206e-02, 9.57840279e-01],\n",
       "       [9.05704301e-01, 9.42956986e-02],\n",
       "       [1.31237040e-01, 8.68762960e-01],\n",
       "       [1.94854649e-02, 9.80514535e-01],\n",
       "       [9.92562258e-01, 7.43774196e-03],\n",
       "       [2.77068928e-01, 7.22931072e-01],\n",
       "       [2.18932610e-01, 7.81067390e-01],\n",
       "       [4.73313734e-01, 5.26686266e-01],\n",
       "       [9.84428515e-02, 9.01557149e-01],\n",
       "       [9.86497329e-01, 1.35026713e-02],\n",
       "       [7.61342648e-01, 2.38657352e-01],\n",
       "       [5.80613493e-01, 4.19386507e-01],\n",
       "       [8.39095040e-01, 1.60904960e-01],\n",
       "       [1.53239888e-01, 8.46760112e-01],\n",
       "       [9.66106935e-01, 3.38930646e-02],\n",
       "       [2.89633892e-01, 7.10366108e-01],\n",
       "       [1.00000000e+00, 1.75150202e-19],\n",
       "       [9.95286430e-01, 4.71356970e-03],\n",
       "       [7.32061413e-01, 2.67938587e-01],\n",
       "       [4.52865304e-01, 5.47134696e-01],\n",
       "       [9.62765457e-01, 3.72345434e-02],\n",
       "       [5.78868626e-01, 4.21131374e-01],\n",
       "       [9.02851517e-01, 9.71484825e-02],\n",
       "       [1.11210852e-02, 9.88878915e-01],\n",
       "       [3.31174964e-01, 6.68825036e-01],\n",
       "       [1.70346753e-01, 8.29653247e-01],\n",
       "       [9.91666596e-01, 8.33340387e-03],\n",
       "       [9.99520955e-01, 4.79044877e-04],\n",
       "       [6.29411434e-01, 3.70588566e-01],\n",
       "       [2.09032745e-01, 7.90967255e-01],\n",
       "       [7.76361806e-01, 2.23638194e-01],\n",
       "       [7.57621270e-01, 2.42378730e-01],\n",
       "       [2.51367434e-01, 7.48632566e-01],\n",
       "       [9.98514939e-01, 1.48506093e-03],\n",
       "       [3.85956675e-01, 6.14043325e-01],\n",
       "       [9.60738368e-01, 3.92616321e-02],\n",
       "       [9.99999778e-01, 2.22008997e-07],\n",
       "       [1.13664627e-03, 9.98863354e-01],\n",
       "       [5.31572352e-01, 4.68427648e-01],\n",
       "       [9.91548946e-01, 8.45105412e-03],\n",
       "       [2.00289842e-01, 7.99710158e-01],\n",
       "       [4.32734974e-01, 5.67265026e-01],\n",
       "       [3.53618399e-01, 6.46381601e-01],\n",
       "       [5.43768943e-01, 4.56231057e-01],\n",
       "       [7.30045642e-01, 2.69954358e-01],\n",
       "       [9.91473788e-01, 8.52621213e-03],\n",
       "       [1.33376550e-01, 8.66623450e-01],\n",
       "       [2.57593587e-04, 9.99742406e-01],\n",
       "       [3.49211165e-01, 6.50788835e-01],\n",
       "       [3.22427470e-02, 9.67757253e-01],\n",
       "       [3.98273427e-01, 6.01726573e-01],\n",
       "       [2.14401683e-02, 9.78559832e-01],\n",
       "       [1.07290077e-01, 8.92709923e-01],\n",
       "       [9.99283092e-01, 7.16908039e-04],\n",
       "       [9.79478702e-01, 2.05212979e-02],\n",
       "       [7.45597724e-01, 2.54402276e-01],\n",
       "       [7.01504707e-01, 2.98495293e-01],\n",
       "       [3.02298669e-01, 6.97701331e-01],\n",
       "       [9.00595877e-01, 9.94041234e-02],\n",
       "       [1.53927461e-02, 9.84607254e-01],\n",
       "       [9.99811434e-01, 1.88566320e-04],\n",
       "       [9.10398552e-01, 8.96014485e-02],\n",
       "       [4.57655325e-01, 5.42344675e-01],\n",
       "       [3.65304718e-01, 6.34695282e-01],\n",
       "       [2.44761986e-01, 7.55238014e-01],\n",
       "       [6.22012010e-01, 3.77987990e-01],\n",
       "       [5.66680370e-02, 9.43331963e-01],\n",
       "       [9.29597376e-01, 7.04026245e-02],\n",
       "       [7.75808445e-01, 2.24191555e-01],\n",
       "       [8.28773140e-01, 1.71226860e-01],\n",
       "       [8.37692862e-01, 1.62307138e-01],\n",
       "       [5.62270970e-01, 4.37729030e-01],\n",
       "       [9.92089799e-01, 7.91020122e-03],\n",
       "       [1.68186463e-01, 8.31813537e-01],\n",
       "       [2.81475895e-04, 9.99718524e-01],\n",
       "       [4.36093254e-01, 5.63906746e-01],\n",
       "       [9.67113830e-01, 3.28861704e-02],\n",
       "       [1.95280302e-01, 8.04719698e-01],\n",
       "       [9.99925065e-01, 7.49347251e-05],\n",
       "       [5.94128860e-01, 4.05871140e-01],\n",
       "       [9.99433161e-01, 5.66839128e-04],\n",
       "       [5.91406383e-01, 4.08593617e-01],\n",
       "       [1.84860126e-01, 8.15139874e-01],\n",
       "       [8.95473239e-01, 1.04526761e-01],\n",
       "       [4.83761584e-01, 5.16238416e-01],\n",
       "       [2.74051484e-01, 7.25948516e-01],\n",
       "       [6.78133295e-01, 3.21866705e-01],\n",
       "       [5.80436273e-01, 4.19563727e-01],\n",
       "       [1.46969439e-01, 8.53030561e-01],\n",
       "       [4.74522171e-01, 5.25477829e-01],\n",
       "       [3.74273969e-01, 6.25726031e-01],\n",
       "       [2.63533428e-01, 7.36466572e-01],\n",
       "       [9.96722142e-01, 3.27785817e-03],\n",
       "       [1.41864844e-01, 8.58135156e-01],\n",
       "       [3.31726846e-01, 6.68273154e-01],\n",
       "       [3.11279427e-01, 6.88720573e-01],\n",
       "       [2.45007305e-01, 7.54992695e-01],\n",
       "       [5.15184211e-01, 4.84815789e-01],\n",
       "       [1.00000000e+00, 5.73667432e-13],\n",
       "       [2.12575227e-01, 7.87424773e-01],\n",
       "       [2.71332469e-01, 7.28667531e-01],\n",
       "       [1.61330900e-01, 8.38669100e-01],\n",
       "       [6.20590626e-01, 3.79409374e-01],\n",
       "       [7.35384715e-01, 2.64615285e-01],\n",
       "       [5.51347560e-01, 4.48652440e-01],\n",
       "       [3.46302111e-01, 6.53697889e-01],\n",
       "       [3.30178488e-01, 6.69821512e-01],\n",
       "       [3.81538524e-04, 9.99618461e-01],\n",
       "       [9.93318948e-01, 6.68105248e-03],\n",
       "       [8.17619465e-02, 9.18238053e-01],\n",
       "       [9.57318725e-01, 4.26812750e-02],\n",
       "       [8.64286826e-01, 1.35713174e-01],\n",
       "       [8.65892618e-01, 1.34107382e-01],\n",
       "       [7.78502035e-01, 2.21497965e-01],\n",
       "       [9.78983552e-01, 2.10164475e-02],\n",
       "       [4.16608752e-01, 5.83391248e-01],\n",
       "       [9.99999800e-01, 2.00448572e-07],\n",
       "       [1.59172464e-01, 8.40827536e-01],\n",
       "       [9.99998989e-01, 1.01063674e-06],\n",
       "       [4.93870796e-01, 5.06129204e-01],\n",
       "       [6.09624968e-01, 3.90375032e-01],\n",
       "       [3.76885620e-01, 6.23114380e-01],\n",
       "       [3.70620042e-01, 6.29379958e-01],\n",
       "       [2.31765992e-01, 7.68234008e-01],\n",
       "       [9.69657721e-01, 3.03422793e-02],\n",
       "       [2.09042585e-01, 7.90957415e-01],\n",
       "       [3.36331770e-01, 6.63668230e-01],\n",
       "       [6.74777892e-01, 3.25222108e-01],\n",
       "       [1.19026821e-01, 8.80973179e-01],\n",
       "       [5.75640765e-01, 4.24359235e-01],\n",
       "       [6.52598883e-01, 3.47401117e-01]])"
      ]
     },
     "execution_count": 178,
     "metadata": {},
     "output_type": "execute_result"
    }
   ],
   "source": []
  },
  {
   "cell_type": "code",
   "execution_count": 179,
   "metadata": {},
   "outputs": [
    {
     "name": "stdout",
     "output_type": "stream",
     "text": [
      "0.8403659537488534 0.8504240493088077\n"
     ]
    }
   ],
   "source": [
    "print(roc_auc_score(y_test, pipe.predict_proba(texts_test)[:, 1]), \n",
    "      roc_auc_score(y_test, my_pipe.predict_proba(X_test_bow)[:, 1]))"
   ]
  },
  {
   "cell_type": "markdown",
   "metadata": {},
   "source": [
    "```\n",
    "\n",
    "```\n",
    "\n",
    "```\n",
    "\n",
    "```\n",
    "\n",
    "```\n",
    "\n",
    "```\n",
    "\n",
    "```\n",
    "\n",
    "```\n",
    "\n",
    "```\n",
    "\n",
    "```\n",
    "\n",
    "```\n",
    "\n",
    "```\n",
    "\n",
    "```\n",
    "\n",
    "```\n",
    "\n",
    "```\n",
    "\n",
    "```\n",
    "\n",
    "\n",
    "### Solving it better: word vectors\n",
    "\n",
    "Let's try another approach: instead of counting per-word frequencies, we shall map all words to pre-trained word vectors and average over them to get text features.\n",
    "\n",
    "This should give us two key advantages: (1) we now have 10^2 features instead of 10^4 and (2) our model can generalize to word that are not in training dataset.\n",
    "\n",
    "We begin with a standard approach with pre-trained word vectors. However, you may also try\n",
    "* training embeddings from scratch on relevant (unlabeled) data\n",
    "* multiplying word vectors by inverse word frequency in dataset (like tf-idf).\n",
    "* concatenating several embeddings\n",
    "    * call `gensim.downloader.info()['models'].keys()` to get a list of available models\n",
    "* clusterizing words by their word-vectors and try bag of cluster_ids\n",
    "\n",
    "__Note:__ loading pre-trained model may take a while. It's a perfect opportunity to refill your cup of tea/coffee and grab some extra cookies. Or binge-watch some tv series if you're slow on internet connection"
   ]
  },
  {
   "cell_type": "code",
   "execution_count": 180,
   "metadata": {
    "scrolled": false
   },
   "outputs": [
    {
     "name": "stdout",
     "output_type": "stream",
     "text": [
      "[==================================================] 100.0% 958.5/958.4MB downloaded\n"
     ]
    }
   ],
   "source": [
    "import gensim.downloader \n",
    "embeddings = gensim.downloader.load(\"fasttext-wiki-news-subwords-300\")\n",
    "\n",
    "# If you're low on RAM or download speed, use \"glove-wiki-gigaword-100\" instead. Ignore all further asserts."
   ]
  },
  {
   "cell_type": "code",
   "execution_count": 191,
   "metadata": {},
   "outputs": [
    {
     "data": {
      "text/plain": [
       "array([-1.07194381e-02, -2.15336606e-02,  7.93265365e-03,  1.86257847e-02,\n",
       "       -2.75125913e-02, -4.37683389e-02,  3.13692633e-03, -2.18026023e-02,\n",
       "       -2.03556847e-02, -6.44007348e-04, -2.46006250e-02, -2.19896752e-02,\n",
       "        2.93548200e-02, -1.55174397e-02, -1.00996597e-02,  2.53375340e-03,\n",
       "        5.89506030e-02, -1.18411961e-03,  6.91860840e-02, -2.52208747e-02,\n",
       "       -3.09612583e-02, -6.58463966e-03, -3.07681225e-02,  5.56455739e-02,\n",
       "        2.49447040e-02, -3.41382017e-03,  2.00308003e-02,  1.81840751e-02,\n",
       "        3.26356217e-02, -4.15332709e-03,  3.05291242e-03,  4.74547094e-04,\n",
       "       -2.28830986e-02, -3.11735608e-02,  1.28277484e-02, -7.22313151e-02,\n",
       "       -1.71129201e-02,  9.17719956e-03, -1.14694070e-02, -9.34534054e-03,\n",
       "       -1.48158409e-02, -5.54679260e-02, -6.78411033e-03, -1.87391657e-02,\n",
       "        1.23285670e-02, -9.66034457e-03,  2.55964398e-02, -2.74360143e-02,\n",
       "       -1.76131558e-02,  2.50800569e-02,  1.92881543e-02,  5.41453308e-04,\n",
       "        3.88949513e-02, -2.38722507e-02, -3.81751312e-03, -1.30139608e-02,\n",
       "        1.10888798e-02,  1.96944037e-03, -6.75582662e-02, -2.53759348e-03,\n",
       "       -1.68321673e-02,  1.31286737e-02,  6.25804663e-02, -1.68860201e-02,\n",
       "        8.98517203e-03,  9.59761906e-03,  1.46840531e-02,  1.47186769e-02,\n",
       "        1.79455522e-02, -6.45934558e-03,  2.83201337e-02,  6.03417261e-03,\n",
       "        3.59286442e-02, -1.58783812e-02,  1.54787684e-02, -1.58222169e-02,\n",
       "        2.47818162e-03, -1.54425995e-02, -2.51683942e-03,  5.31236734e-03,\n",
       "       -3.97080975e-03, -3.51494029e-02,  1.72832441e-02,  8.26169327e-02,\n",
       "       -1.96035113e-02, -3.17073390e-02, -3.05668432e-02, -2.73329727e-02,\n",
       "        1.63982324e-02, -9.73377563e-03,  2.32931189e-02,  2.81295944e-02,\n",
       "       -5.77739291e-02, -4.51036654e-02,  2.99507305e-02, -5.46160061e-03,\n",
       "        1.02198096e-02,  1.59098755e-03,  2.28609014e-02,  6.49719965e-03,\n",
       "        7.12532038e-03,  1.04942936e-02,  1.68669000e-02,  2.61610653e-02,\n",
       "       -1.78346727e-02, -7.10051209e-02,  1.05570266e-02,  2.06232499e-02,\n",
       "        2.28509810e-02,  2.53677275e-03, -9.54774581e-03,  4.83972877e-02,\n",
       "        5.00514023e-02, -1.41705321e-02, -5.66148153e-03,  1.17839398e-02,\n",
       "       -5.45533970e-02, -1.72751807e-02,  4.48617190e-02, -1.42861595e-02,\n",
       "       -8.32440890e-03,  3.51023600e-02,  7.26539362e-03, -1.09314267e-02,\n",
       "        1.25930291e-02,  2.38001253e-02, -1.81847867e-02, -6.31206110e-02,\n",
       "        1.45467324e-03,  8.39074850e-02, -3.93969566e-02,  1.00885436e-03,\n",
       "        3.78222391e-03, -1.03917737e-02,  9.17149894e-03, -1.76016111e-02,\n",
       "        5.09553123e-03,  5.28809391e-02,  1.43616099e-03,  8.28741957e-03,\n",
       "        1.43381795e-02,  4.52981424e-03, -6.64570602e-03,  1.11093530e-02,\n",
       "        2.67550652e-03,  1.23120304e-02, -5.66242030e-03,  6.63886720e-04,\n",
       "        9.93236713e-03,  1.17943529e-02,  1.48234563e-03,  2.35055443e-02,\n",
       "       -2.72111315e-02, -7.95171112e-02, -2.26710318e-03, -2.07359996e-02,\n",
       "        2.16628611e-02, -4.99106525e-03, -8.98155943e-03, -5.85771576e-02,\n",
       "        1.25246197e-02,  2.28468725e-03, -1.97120048e-02, -2.17543803e-02,\n",
       "       -5.25960047e-03, -7.75087066e-03,  1.48687195e-02, -1.43201286e-02,\n",
       "        1.15356594e-03,  5.70046017e-04, -1.44625461e-04, -6.93779392e-03,\n",
       "        3.43520683e-03, -3.19639198e-03, -2.04378571e-02,  1.38610870e-01,\n",
       "       -6.19931938e-03,  2.36940496e-02,  8.09398144e-02, -2.09312011e-02,\n",
       "        1.91402342e-02, -3.04780668e-03, -7.52968993e-03, -1.59850123e-03,\n",
       "       -4.85612918e-03, -3.42557766e-02,  2.34410577e-02,  3.54193479e-01,\n",
       "       -9.47573280e-04, -1.73556115e-02, -3.82642704e-03,  7.74029270e-02,\n",
       "       -8.51863399e-02, -3.29749309e-03, -2.29988862e-02,  1.92947092e-03,\n",
       "       -5.99046820e-04,  1.98813062e-02, -6.32713437e-02,  3.45296785e-02,\n",
       "       -5.90539351e-02,  5.46888709e-02, -6.85106032e-03, -4.94795432e-03,\n",
       "        1.60127785e-02, -1.18400669e-02, -1.08559988e-03, -2.17464808e-02,\n",
       "       -9.48921405e-03, -3.41523290e-02,  4.77921255e-02, -3.62503380e-02,\n",
       "       -1.33601972e-03, -1.22866803e-03,  1.87503751e-02, -2.88253669e-02,\n",
       "        3.11905309e-03, -1.33771412e-02, -1.28413236e-03, -1.18516888e-02,\n",
       "       -1.81288028e-03, -3.56849693e-02, -1.13026015e-02,  6.99307993e-02,\n",
       "        2.58030239e-02, -1.61319331e-03,  3.13353390e-02,  1.08145274e-01,\n",
       "       -1.27130961e-02, -3.48650105e-02,  1.53757329e-03, -9.55114365e-02,\n",
       "       -7.59156644e-02, -3.07573879e-04,  4.98477332e-02, -2.04106383e-02,\n",
       "        2.42135301e-03, -8.03480018e-03, -5.98426908e-04, -4.24106047e-02,\n",
       "       -1.23959128e-02, -1.03264600e-02,  1.93670637e-03, -3.91042745e-03,\n",
       "       -4.71458323e-02, -1.53458007e-02,  4.08794638e-03,  8.46318714e-03,\n",
       "       -4.01841179e-02, -3.04781869e-02,  6.15743808e-02,  4.96050622e-03,\n",
       "       -7.36206723e-03, -2.18645507e-03,  1.28133763e-02, -1.21605201e-02,\n",
       "       -1.01148598e-02,  5.50072379e-02,  3.48362438e-02, -1.42196417e-02,\n",
       "       -1.65702924e-02,  5.27633238e-04,  3.21519971e-02, -7.50651956e-03,\n",
       "       -9.25849658e-03, -1.57558937e-02,  3.08150332e-02,  2.10672971e-02,\n",
       "        1.74133517e-02,  1.56876184e-02, -2.93967053e-02,  6.10655881e-02,\n",
       "       -1.20875068e-01, -9.45356581e-03,  6.31529391e-02, -9.43599567e-02,\n",
       "       -8.95569625e-04,  2.40558442e-02,  5.56473294e-03, -1.73833612e-02,\n",
       "       -2.21137907e-02, -9.46996175e-03,  2.23449897e-02, -2.60214228e-02,\n",
       "       -6.93190843e-03,  1.92288999e-02,  1.91505272e-02, -1.88894309e-02,\n",
       "       -1.14422617e-03,  2.99993623e-02, -1.13765579e-02, -8.99777841e-03,\n",
       "       -7.03190863e-02,  3.45222652e-03, -1.12813315e-03,  3.82021721e-03,\n",
       "        1.34965600e-02,  1.52342338e-02, -2.02025473e-02, -1.35853991e-03],\n",
       "      dtype=float32)"
      ]
     },
     "execution_count": 191,
     "metadata": {},
     "output_type": "execute_result"
    }
   ],
   "source": [
    "comment = texts_train[0]\n"
   ]
  },
  {
   "cell_type": "code",
   "execution_count": 197,
   "metadata": {},
   "outputs": [
    {
     "data": {
      "text/plain": [
       "300"
      ]
     },
     "execution_count": 197,
     "metadata": {},
     "output_type": "execute_result"
    }
   ],
   "source": [
    "embeddings.vectors.shape[1]"
   ]
  },
  {
   "cell_type": "code",
   "execution_count": 200,
   "metadata": {},
   "outputs": [
    {
     "data": {
      "text/plain": [
       "(array([ 0.00120684,  0.00290737,  0.01539459, -0.0205673 , -0.05153336],\n",
       "       dtype=float32),)"
      ]
     },
     "execution_count": 200,
     "metadata": {},
     "output_type": "execute_result"
    }
   ],
   "source": [
    "vectorize_sum(\"who cares anymore . they attack with impunity .\")[::70],"
   ]
  },
  {
   "cell_type": "code",
   "execution_count": 203,
   "metadata": {},
   "outputs": [],
   "source": [
    "def vectorize_sum(comment):\n",
    "    \"\"\"\n",
    "    implement a function that converts preprocessed comment to a sum of token vectors\n",
    "    \"\"\"\n",
    "    embedding_dim = embeddings.vectors.shape[1]\n",
    "    features = np.zeros([embedding_dim], dtype='float32')\n",
    "\n",
    "    for word in comment.split(\" \"):\n",
    "        try:\n",
    "            features += embeddings.get_vector(word)\n",
    "        except KeyError:\n",
    "            pass\n",
    "    return features\n",
    "\n",
    "assert np.allclose(\n",
    "    vectorize_sum(\"who cares anymore . they attack with impunity .\")[::70],\n",
    "    np.array([ 0.0108616 ,  0.0261663 ,  0.13855131, -0.18510573, -0.46380025])\n",
    ")"
   ]
  },
  {
   "cell_type": "code",
   "execution_count": 219,
   "metadata": {},
   "outputs": [],
   "source": [
    "class Embedding_Sum:\n",
    "    def fit(self,X, y):\n",
    "        return self\n",
    "    def transform(self,X):\n",
    "        return np.stack([vectorize_sum(text) for text in X])"
   ]
  },
  {
   "cell_type": "code",
   "execution_count": 227,
   "metadata": {},
   "outputs": [],
   "source": [
    "from sklearn.preprocessing import StandardScaler"
   ]
  },
  {
   "cell_type": "code",
   "execution_count": 229,
   "metadata": {},
   "outputs": [],
   "source": [
    "pipe = Pipeline([(\"embedding\", Embedding_Sum()), \n",
    "                 ('scaler', StandardScaler()),\n",
    "                 (\"LogReg\", LogisticRegression())\n",
    "         ])"
   ]
  },
  {
   "cell_type": "code",
   "execution_count": 230,
   "metadata": {},
   "outputs": [
    {
     "data": {
      "text/plain": [
       "Pipeline(steps=[('embedding',\n",
       "                 <__main__.Embedding_Sum object at 0x7f063badc400>),\n",
       "                ('scaler', StandardScaler()),\n",
       "                ('LogReg', LogisticRegression())])"
      ]
     },
     "execution_count": 230,
     "metadata": {},
     "output_type": "execute_result"
    }
   ],
   "source": [
    "pipe.fit(texts_train, y_train)"
   ]
  },
  {
   "cell_type": "code",
   "execution_count": 234,
   "metadata": {},
   "outputs": [
    {
     "data": {
      "text/plain": [
       "0.9360305122386906"
      ]
     },
     "execution_count": 234,
     "metadata": {},
     "output_type": "execute_result"
    }
   ],
   "source": [
    "roc_auc_score(y_test, pipe.predict_proba(texts_test)[:, 1])"
   ]
  },
  {
   "cell_type": "code",
   "execution_count": 231,
   "metadata": {},
   "outputs": [
    {
     "data": {
      "text/plain": [
       "0.88"
      ]
     },
     "execution_count": 231,
     "metadata": {},
     "output_type": "execute_result"
    }
   ],
   "source": [
    "pipe.score(texts_test, y_test)"
   ]
  },
  {
   "cell_type": "code",
   "execution_count": 204,
   "metadata": {},
   "outputs": [],
   "source": [
    "X_train_wv = np.stack([vectorize_sum(text) for text in texts_train])\n",
    "X_test_wv = np.stack([vectorize_sum(text) for text in texts_test])"
   ]
  },
  {
   "cell_type": "code",
   "execution_count": 218,
   "metadata": {},
   "outputs": [],
   "source": [
    "X_train_wv2 = X_train_wv/X_train_wv.sum(axis=1).reshape(500,-1)\n"
   ]
  },
  {
   "cell_type": "code",
   "execution_count": 205,
   "metadata": {},
   "outputs": [
    {
     "name": "stderr",
     "output_type": "stream",
     "text": [
      "/home/gpashchenko/.local/lib/python3.8/site-packages/sklearn/linear_model/_logistic.py:814: ConvergenceWarning: lbfgs failed to converge (status=1):\n",
      "STOP: TOTAL NO. of ITERATIONS REACHED LIMIT.\n",
      "\n",
      "Increase the number of iterations (max_iter) or scale the data as shown in:\n",
      "    https://scikit-learn.org/stable/modules/preprocessing.html\n",
      "Please also refer to the documentation for alternative solver options:\n",
      "    https://scikit-learn.org/stable/modules/linear_model.html#logistic-regression\n",
      "  n_iter_i = _check_optimize_result(\n"
     ]
    },
    {
     "data": {
      "image/png": "[encoded data removed]",
      "text/plain": [
       "<Figure size 432x288 with 1 Axes>"
      ]
     },
     "metadata": {
      "needs_background": "light"
     },
     "output_type": "display_data"
    }
   ],
   "source": [
    "wv_model = LogisticRegression().fit(X_train_wv, y_train)\n",
    "\n",
    "for name, X, y, model in [\n",
    "    ('bow train', X_train_bow, y_train, bow_model),\n",
    "    ('bow test ', X_test_bow, y_test, bow_model),\n",
    "    ('vec train', X_train_wv, y_train, wv_model),\n",
    "    ('vec test ', X_test_wv, y_test, wv_model)\n",
    "]:\n",
    "    proba = model.predict_proba(X)[:, 1]\n",
    "    auc = roc_auc_score(y, proba)\n",
    "    plt.plot(*roc_curve(y, proba)[:2], label='%s AUC=%.4f' % (name, auc))\n",
    "\n",
    "plt.plot([0, 1], [0, 1], '--', color='black',)\n",
    "plt.legend(fontsize='large')\n",
    "plt.grid()\n",
    "\n",
    "assert roc_auc_score(y_test, wv_model.predict_proba(X_test_wv)[:, 1]) > 0.92, \"something's wrong with your features\""
   ]
  },
  {
   "cell_type": "markdown",
   "metadata": {},
   "source": [
    "If everything went right, you've just managed to reduce misclassification rate by a factor of two.\n",
    "This trick is very useful when you're dealing with small datasets. However, if you have hundreds of thousands of samples, there's a whole different range of methods for that. We'll get there in the second part."
   ]
  }
 ],
 "metadata": {
  "kernelspec": {
   "display_name": "Python 3",
   "language": "python",
   "name": "python3"
  },
  "language_info": {
   "codemirror_mode": {
    "name": "ipython",
    "version": 3
   },
   "file_extension": ".py",
   "mimetype": "text/x-python",
   "name": "python",
   "nbconvert_exporter": "python",
   "pygments_lexer": "ipython3",
   "version": "3.8.10"
  }
 },
 "nbformat": 4,
 "nbformat_minor": 2
}
